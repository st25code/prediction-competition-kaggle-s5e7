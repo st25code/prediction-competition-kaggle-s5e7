{
 "cells": [
  {
   "cell_type": "code",
   "execution_count": 1,
   "id": "ba4335a8",
   "metadata": {},
   "outputs": [
    {
     "name": "stdout",
     "output_type": "stream",
     "text": [
      "Accuracy: 0.9656652360515021\n",
      "Classification Report:\n",
      "               precision    recall  f1-score   support\n",
      "\n",
      "           0       0.97      0.98      0.98      3325\n",
      "           1       0.94      0.92      0.93      1102\n",
      "\n",
      "    accuracy                           0.97      4427\n",
      "   macro avg       0.96      0.95      0.95      4427\n",
      "weighted avg       0.97      0.97      0.97      4427\n",
      "\n",
      "Confusion Matrix:\n",
      " [[3259   66]\n",
      " [  86 1016]]\n"
     ]
    }
   ],
   "source": [
    "from sklearn.ensemble import StackingClassifier\n",
    "from sklearn.ensemble import RandomForestClassifier\n",
    "from sklearn.linear_model import LogisticRegression\n",
    "from sklearn.model_selection import train_test_split\n",
    "from sklearn.metrics import accuracy_score, classification_report, confusion_matrix\n",
    "import pandas as pd\n",
    "from xgboost import XGBClassifier\n",
    "\n",
    "import warnings\n",
    "warnings.filterwarnings(\"ignore\", category=UserWarning)\n",
    "\n",
    "# Load training data\n",
    "train_df = pd.read_csv(\"../data/prepared/train_fully_prepared.csv\")\n",
    "X = train_df.drop(columns=[\"id\", \"Personality\"])\n",
    "y = train_df[\"Personality\"]\n",
    "\n",
    "# Train/validation split\n",
    "X_train, X_val, y_train, y_val = train_test_split(X, y, stratify=y, random_state=42)\n",
    "\n",
    "# Final tuned XGBClassifier\n",
    "final_model = XGBClassifier(\n",
    "    colsample_bytree=0.7,\n",
    "    gamma=0.2,\n",
    "    learning_rate=0.1,\n",
    "    max_depth=3,\n",
    "    n_estimators=200,\n",
    "    reg_alpha=0,\n",
    "    reg_lambda=1.5,\n",
    "    subsample=0.7,\n",
    "    use_label_encoder=False,\n",
    "    eval_metric='logloss',\n",
    "    random_state=42\n",
    ")\n",
    "\n",
    "# Base learners\n",
    "estimators = [\n",
    "    ('xgb', final_model),\n",
    "    ('rf', RandomForestClassifier(n_estimators=100, random_state=42)),\n",
    "    ('lr', LogisticRegression(max_iter=1000))\n",
    "]\n",
    "\n",
    "# Stacking classifier with LogisticRegression as final estimator\n",
    "stacking_clf = StackingClassifier(\n",
    "    estimators=estimators,\n",
    "    final_estimator=LogisticRegression(),\n",
    "    cv=5,\n",
    "    passthrough=False\n",
    ")\n",
    "\n",
    "# Train the stacking model\n",
    "stacking_clf.fit(X_train, y_train)\n",
    "\n",
    "# Predict on validation set\n",
    "y_pred = stacking_clf.predict(X_val)\n",
    "\n",
    "# Evaluation\n",
    "print(\"Accuracy:\", accuracy_score(y_val, y_pred))\n",
    "print(\"Classification Report:\\n\", classification_report(y_val, y_pred))\n",
    "print(\"Confusion Matrix:\\n\", confusion_matrix(y_val, y_pred))\n",
    "\n"
   ]
  },
  {
   "cell_type": "code",
   "execution_count": 2,
   "id": "875bb771",
   "metadata": {},
   "outputs": [
    {
     "name": "stdout",
     "output_type": "stream",
     "text": [
      "Submission saved as submission.csv\n"
     ]
    }
   ],
   "source": [
    "# Load test set\n",
    "test_df = pd.read_csv(\"../data/prepared/test_fully_prepared.csv\")\n",
    "X_test = test_df.drop(columns=[\"id\"])\n",
    "test_ids = test_df[\"id\"]\n",
    "\n",
    "# Predict using the trained stacking model\n",
    "y_pred = stacking_clf.predict(X_test)\n",
    "\n",
    "# Convert numerical labels to string labels\n",
    "y_labels = pd.Series(y_pred).map({0: \"Extrovert\", 1: \"Introvert\"})\n",
    "\n",
    "# Build the submission DataFrame\n",
    "submission = pd.DataFrame({\n",
    "    \"id\": test_ids,\n",
    "    \"Personality\": y_labels\n",
    "})\n",
    "\n",
    "# Save the submission file\n",
    "submission.to_csv(\"submission.csv\", index=False)\n",
    "print(\"Submission saved as submission.csv\")"
   ]
  }
 ],
 "metadata": {
  "kernelspec": {
   "display_name": "Python 3",
   "language": "python",
   "name": "python3"
  },
  "language_info": {
   "codemirror_mode": {
    "name": "ipython",
    "version": 3
   },
   "file_extension": ".py",
   "mimetype": "text/x-python",
   "name": "python",
   "nbconvert_exporter": "python",
   "pygments_lexer": "ipython3",
   "version": "3.13.4"
  }
 },
 "nbformat": 4,
 "nbformat_minor": 5
}
