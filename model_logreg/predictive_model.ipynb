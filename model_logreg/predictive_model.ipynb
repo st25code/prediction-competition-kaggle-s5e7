{
 "cells": [
  {
   "cell_type": "markdown",
   "id": "fedc7441",
   "metadata": {},
   "source": [
    "## ✅ Model Choice: Logistic Regression\n",
    "\n",
    "After extensive experimentation with various classifiers, including:\n",
    "\n",
    "* Random Forest\n",
    "* XGBoost\n",
    "* CatBoost\n",
    "* LightGBM\n",
    "* Stacking & Voting Ensembles\n",
    "\n",
    "We found that **Logistic Regression consistently delivers the best accuracy (≈0.9690)** while being:\n",
    "\n",
    "* Simple and interpretable ✅\n",
    "* Fast to train and cross-validate ✅\n",
    "* Stable across folds and feature variations ✅\n",
    "\n",
    "Even more complex models like XGBoost or CatBoost provided no measurable gain on the cleaned and engineered dataset.\n",
    "\n",
    "**Conclusion:**\n",
    "👉 Logistic Regression was selected as the final model due to its strong and stable performance, clarity, and efficiency.\n",
    "\n"
   ]
  },
  {
   "cell_type": "code",
   "execution_count": 1,
   "id": "26928d6f",
   "metadata": {},
   "outputs": [],
   "source": [
    "import pandas as pd\n",
    "import joblib\n",
    "from sklearn.linear_model import LogisticRegression\n",
    "from sklearn.model_selection import StratifiedKFold, cross_val_score\n",
    "from sklearn.preprocessing import LabelEncoder"
   ]
  },
  {
   "cell_type": "code",
   "execution_count": 2,
   "id": "a4aa97c9",
   "metadata": {},
   "outputs": [
    {
     "name": "stdout",
     "output_type": "stream",
     "text": [
      "Logistic Regression CV: 0.9689 ± 0.0028\n"
     ]
    },
    {
     "data": {
      "text/plain": [
       "['model.pkl']"
      ]
     },
     "execution_count": 2,
     "metadata": {},
     "output_type": "execute_result"
    }
   ],
   "source": [
    "# Load processed dataset with engineered binary features\n",
    "df_train = pd.read_csv('../data/prepared/train_fully_prepared.csv')\n",
    "\n",
    "# Prepare features and target\n",
    "X = df_train.drop(columns=[\"id\", \"Personality\"])\n",
    "y = LabelEncoder().fit_transform(df_train[\"Personality\"])\n",
    "\n",
    "# Define model\n",
    "final_model = LogisticRegression(max_iter=1000)\n",
    "\n",
    "# Cross-validation\n",
    "cv = StratifiedKFold(n_splits=5, shuffle=True, random_state=42)\n",
    "scores = cross_val_score(final_model, X, y, cv=cv, scoring=\"accuracy\")\n",
    "print(f\"Logistic Regression CV: {scores.mean():.4f} ± {scores.std():.4f}\")\n",
    "\n",
    "# Retrain on full data\n",
    "final_model.fit(X, y)\n",
    "\n",
    "# Save model\n",
    "joblib.dump(final_model, \"model.pkl\")\n"
   ]
  },
  {
   "cell_type": "code",
   "execution_count": 3,
   "id": "54b78f22",
   "metadata": {},
   "outputs": [
    {
     "name": "stdout",
     "output_type": "stream",
     "text": [
      "✅ submission.csv saved.\n"
     ]
    }
   ],
   "source": [
    "# Load processed test data\n",
    "df_test = pd.read_csv(\"../data/prepared/test_fully_prepared.csv\")\n",
    "X_test = df_test.drop(columns=[\"id\"])\n",
    "\n",
    "# Load trained model\n",
    "model = joblib.load(\"model.pkl\")\n",
    "\n",
    "# Predict\n",
    "preds = model.predict(X_test)\n",
    "\n",
    "# Convert back to labels (assuming same order as training)\n",
    "label_encoder = LabelEncoder()\n",
    "label_encoder.fit([\"Introvert\", \"Extrovert\"])  # must match training label order\n",
    "pred_labels = label_encoder.inverse_transform(preds)\n",
    "\n",
    "# Prepare submission\n",
    "submission = pd.DataFrame({\n",
    "    \"id\": df_test[\"id\"],\n",
    "    \"Personality\": pred_labels\n",
    "})\n",
    "\n",
    "# Save\n",
    "submission.to_csv(\"submission.csv\", index=False)\n",
    "print(\"✅ submission.csv saved.\")"
   ]
  }
 ],
 "metadata": {
  "kernelspec": {
   "display_name": "Python 3",
   "language": "python",
   "name": "python3"
  },
  "language_info": {
   "codemirror_mode": {
    "name": "ipython",
    "version": 3
   },
   "file_extension": ".py",
   "mimetype": "text/x-python",
   "name": "python",
   "nbconvert_exporter": "python",
   "pygments_lexer": "ipython3",
   "version": "3.13.4"
  }
 },
 "nbformat": 4,
 "nbformat_minor": 5
}
