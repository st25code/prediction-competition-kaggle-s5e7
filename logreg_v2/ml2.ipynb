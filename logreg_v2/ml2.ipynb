{
 "cells": [
  {
   "cell_type": "code",
   "execution_count": 1,
   "id": "892152cf",
   "metadata": {},
   "outputs": [],
   "source": [
    "import pandas as pd\n",
    "import numpy as np\n",
    "from sklearn.preprocessing import LabelEncoder\n",
    "from sklearn.linear_model import LogisticRegression\n",
    "from sklearn.model_selection import StratifiedKFold\n",
    "from sklearn.metrics import accuracy_score\n",
    "\n",
    "# Load processed dataset with engineered binary features\n",
    "df_train = pd.read_csv('../data/prepared/train_fully_prepared.csv')\n",
    "# Train/test split (или кросс-валидация)\n",
    "X = df_train.drop(columns=['id', 'Personality'])\n",
    "y = LabelEncoder().fit_transform(df_train['Personality'])\n",
    "\n",
    "# Train the model\n",
    "model = LogisticRegression(max_iter=1000)\n",
    "model.fit(X, y)\n",
    "\n",
    "# Predict probabilities (on the same train - to select the threshold)\n",
    "probs = model.predict_proba(X)[:, 1]  # probability of class 1 (Extrovert)\n"
   ]
  },
  {
   "cell_type": "code",
   "execution_count": 2,
   "id": "81877b33",
   "metadata": {},
   "outputs": [
    {
     "name": "stdout",
     "output_type": "stream",
     "text": [
      "✅ Best threshold: 0.53 → Accuracy: 0.9690\n"
     ]
    }
   ],
   "source": [
    "thresholds = np.arange(0.1, 0.9, 0.01)\n",
    "best_acc = 0\n",
    "best_threshold = 0.5\n",
    "\n",
    "for t in thresholds:\n",
    "    preds = (probs > t).astype(int)\n",
    "    acc = accuracy_score(y, preds)\n",
    "    if acc > best_acc:\n",
    "        best_acc = acc\n",
    "        best_threshold = t\n",
    "\n",
    "print(f\"✅ Best threshold: {best_threshold:.2f} → Accuracy: {best_acc:.4f}\")\n"
   ]
  },
  {
   "cell_type": "code",
   "execution_count": 4,
   "id": "5cb40146",
   "metadata": {},
   "outputs": [
    {
     "name": "stdout",
     "output_type": "stream",
     "text": [
      "✅ Submission with threshold 0.53 saved.\n"
     ]
    }
   ],
   "source": [
    "import joblib\n",
    "from sklearn.preprocessing import LabelEncoder\n",
    "\n",
    "# Load processed test set\n",
    "df_test = pd.read_csv('../data/prepared/test_fully_prepared.csv')\n",
    "X_test = df_test.drop(columns=[\"id\"])\n",
    "\n",
    "# Load model\n",
    "model = joblib.load(\"../model_logreg/model.pkl\")\n",
    "\n",
    "# Predict probabilities\n",
    "probs = model.predict_proba(X_test)[:, 1]  # probability Extrovert\n",
    "\n",
    "# Apply threshold\n",
    "threshold = 0.53\n",
    "preds = (probs > threshold).astype(int)\n",
    "\n",
    "# Inverse transform back to labels\n",
    "label_encoder = LabelEncoder()\n",
    "label_encoder.fit([\"Introvert\", \"Extrovert\"])  \n",
    "pred_labels = label_encoder.inverse_transform(preds)\n",
    "\n",
    "# Save submission\n",
    "submission = pd.DataFrame({\n",
    "    \"id\": df_test[\"id\"],\n",
    "    \"Personality\": pred_labels\n",
    "})\n",
    "\n",
    "submission.to_csv(\"submission.csv\", index=False)\n",
    "print(\"✅ Submission with threshold 0.53 saved.\")\n"
   ]
  }
 ],
 "metadata": {
  "kernelspec": {
   "display_name": "Python 3",
   "language": "python",
   "name": "python3"
  },
  "language_info": {
   "codemirror_mode": {
    "name": "ipython",
    "version": 3
   },
   "file_extension": ".py",
   "mimetype": "text/x-python",
   "name": "python",
   "nbconvert_exporter": "python",
   "pygments_lexer": "ipython3",
   "version": "3.13.4"
  }
 },
 "nbformat": 4,
 "nbformat_minor": 5
}
