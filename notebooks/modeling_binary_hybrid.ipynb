{
 "cells": [
  {
   "cell_type": "markdown",
   "id": "c7b8aeb5",
   "metadata": {},
   "source": [
    "### 🧠 Hybrid Model: Full + Binarized Features\n",
    " \n",
    "This notebook trains models using the full set of original features\n",
    "from `train_processed.csv` plus the engineered binary flags.\n",
    "\n",
    "The goal is to test whether combining raw numeric features with strong\n",
    "binary signals leads to higher accuracy.\n"
   ]
  },
  {
   "cell_type": "code",
   "execution_count": 1,
   "id": "1dbd3908",
   "metadata": {},
   "outputs": [],
   "source": [
    "# Imports\n",
    "import pandas as pd\n",
    "from sklearn.linear_model import LogisticRegression\n",
    "from sklearn.ensemble import RandomForestClassifier\n",
    "from xgboost import XGBClassifier\n",
    "from sklearn.model_selection import cross_val_score, StratifiedKFold\n",
    "from sklearn.preprocessing import LabelEncoder\n",
    "\n",
    "# Load processed dataset\n",
    "df = pd.read_csv('../data/train_processed.csv')"
   ]
  },
  {
   "cell_type": "code",
   "execution_count": 2,
   "id": "ffb6bcfc",
   "metadata": {},
   "outputs": [
    {
     "name": "stdout",
     "output_type": "stream",
     "text": [
      "Logistic Regression: 0.9688 ± 0.0020\n",
      "Random Forest: 0.9677 ± 0.0026\n",
      "XGBoost: 0.9676 ± 0.0022\n"
     ]
    }
   ],
   "source": [
    "# Add engineered binary flags\n",
    "binary_flags = [\n",
    "    ('num__Time_spent_Alone', lambda x: x > 4, 'Time_alone_heavy'),\n",
    "    ('num__Going_outside', lambda x: x < 3, 'Going_outside_rare'),\n",
    "    ('num__Post_frequency', lambda x: x < 3, 'num__Post_low'),\n",
    "]\n",
    "\n",
    "for col, cond, name in binary_flags:\n",
    "    df[name] = cond(df[col]).astype(int)\n",
    "\n",
    "# Prepare feature matrix\n",
    "X = df.drop(columns=['id', 'Personality'])\n",
    "y = LabelEncoder().fit_transform(df['Personality'])\n",
    "\n",
    "# Define models\n",
    "models = {\n",
    "    'Logistic Regression': LogisticRegression(max_iter=1000),\n",
    "    'Random Forest': RandomForestClassifier(random_state=42),\n",
    "    'XGBoost': XGBClassifier(eval_metric='logloss', random_state=42)\n",
    "}\n",
    "\n",
    "# Cross-validation\n",
    "cv = StratifiedKFold(n_splits=5, shuffle=True, random_state=42)\n",
    "\n",
    "for name, model in models.items():\n",
    "    scores = cross_val_score(model, X, y, cv=cv, scoring='accuracy')\n",
    "    print(f\"{name}: {scores.mean():.4f} ± {scores.std():.4f}\")"
   ]
  },
  {
   "cell_type": "markdown",
   "id": "05d32243",
   "metadata": {},
   "source": [
    "### 🧪 Hybrid Model with Selected Binary Features\n",
    "\n",
    "We added three highly asymmetric binary features to the full dataset:\n",
    "\n",
    "- `Time_alone_heavy`: `Time_spent_Alone > 4`\n",
    "- `Going_outside_rare`: `Going_outside < 3`\n",
    "- `Post_low`: `Post_frequency < 3`\n",
    "\n",
    "These features capture strong introvert signals.\n",
    "\n",
    "### 🔍 Results (Full features + binary):\n",
    "\n",
    "- Logistic Regression: 0.9688 ± 0.0020  \n",
    "- Random Forest: 0.9677 ± 0.0026  \n",
    "- XGBoost: 0.9676 ± 0.0022  \n",
    "\n",
    "### 📌 Conclusion:\n",
    "\n",
    "Adding these binary flags did not significantly improve performance.  \n",
    "The model already captured similar patterns from the original numeric features.\n"
   ]
  }
 ],
 "metadata": {
  "kernelspec": {
   "display_name": "Python 3",
   "language": "python",
   "name": "python3"
  },
  "language_info": {
   "codemirror_mode": {
    "name": "ipython",
    "version": 3
   },
   "file_extension": ".py",
   "mimetype": "text/x-python",
   "name": "python",
   "nbconvert_exporter": "python",
   "pygments_lexer": "ipython3",
   "version": "3.13.4"
  }
 },
 "nbformat": 4,
 "nbformat_minor": 5
}
