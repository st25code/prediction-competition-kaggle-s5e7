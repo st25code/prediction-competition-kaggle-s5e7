{
 "cells": [
  {
   "cell_type": "markdown",
   "id": "13746e0a",
   "metadata": {},
   "source": [
    " ### 🤖 Baseline Model Comparison\n",
    " \n",
    " This notebook compares three machine learning models on the preprocessed dataset to identify the best-performing baseline:\n",
    " \n",
    " ### Models Evaluated:\n",
    " - **Logistic Regression**: Fast and interpretable linear model.\n",
    " - **Random Forest**: Ensemble of decision trees, robust to noise and non-linear patterns.\n",
    " - **XGBoost**: Gradient boosting model known for top Kaggle performance.\n",
    " \n",
    " ### Evaluation Strategy:\n",
    " - **Metric**: Accuracy\n",
    " - **Validation**: 5-fold Stratified Cross-Validation\n",
    " - **Output**: Mean ± standard deviation of accuracy for each model\n",
    " \n",
    " This step helps establish a strong baseline and informs which model is most promising for further tuning.\n",
    " \n",
    " This notebook evaluates three baseline models on the processed training data:\n",
    " - Logistic Regression\n",
    " - Random Forest\n",
    " - XGBoost\n",
    " \n",
    " Each model is evaluated using 5-fold cross-validation on accuracy.\n",
    " The goal is to determine which model performs best as a starting point."
   ]
  },
  {
   "cell_type": "code",
   "execution_count": 1,
   "id": "26a3ed5d",
   "metadata": {},
   "outputs": [
    {
     "name": "stdout",
     "output_type": "stream",
     "text": [
      "Logistic Regression: 0.9690 ± 0.0017\n",
      "Random Forest: 0.9678 ± 0.0020\n",
      "XGBoost: 0.9676 ± 0.0022\n"
     ]
    }
   ],
   "source": [
    "# Imports\n",
    "import pandas as pd\n",
    "from sklearn.model_selection import cross_val_score\n",
    "from sklearn.ensemble import RandomForestClassifier\n",
    "from sklearn.linear_model import LogisticRegression\n",
    "from xgboost import XGBClassifier\n",
    "from sklearn.preprocessing import LabelEncoder\n",
    "\n",
    "# Load processed training data\n",
    "df = pd.read_csv('../data/train_processed.csv')\n",
    "X = df.drop(columns=['id', 'Personality'])\n",
    "y = LabelEncoder().fit_transform(df['Personality'])\n",
    "\n",
    "# Define models\n",
    "models = {\n",
    "    'Logistic Regression': LogisticRegression(max_iter=1000),\n",
    "    'Random Forest': RandomForestClassifier(random_state=42),\n",
    "    'XGBoost': XGBClassifier(eval_metric='logloss', random_state=42)\n",
    "}\n",
    "\n",
    "# Cross-validation evaluation\n",
    "from sklearn.model_selection import StratifiedKFold\n",
    "cv = StratifiedKFold(n_splits=5, shuffle=True, random_state=42)\n",
    "\n",
    "for name, model in models.items():\n",
    "    scores = cross_val_score(model, X, y, cv=cv, scoring='accuracy')\n",
    "    print(f\"{name}: {scores.mean():.4f} ± {scores.std():.4f}\")"
   ]
  }
 ],
 "metadata": {
  "kernelspec": {
   "display_name": "Python 3",
   "language": "python",
   "name": "python3"
  },
  "language_info": {
   "codemirror_mode": {
    "name": "ipython",
    "version": 3
   },
   "file_extension": ".py",
   "mimetype": "text/x-python",
   "name": "python",
   "nbconvert_exporter": "python",
   "pygments_lexer": "ipython3",
   "version": "3.13.4"
  }
 },
 "nbformat": 4,
 "nbformat_minor": 5
}
