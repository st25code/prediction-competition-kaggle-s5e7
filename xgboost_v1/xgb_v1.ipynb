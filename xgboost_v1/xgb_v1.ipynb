{
 "cells": [
  {
   "cell_type": "code",
   "execution_count": null,
   "id": "36493826",
   "metadata": {},
   "outputs": [
    {
     "name": "stdout",
     "output_type": "stream",
     "text": [
      "Fitting 3 folds for each of 4374 candidates, totalling 13122 fits\n",
      "Best Parameters: {'colsample_bytree': 0.7, 'gamma': 0.2, 'learning_rate': 0.1, 'max_depth': 3, 'n_estimators': 200, 'reg_alpha': 0, 'reg_lambda': 1.5, 'subsample': 0.7}\n",
      "Best Accuracy: 0.9697824921753423\n"
     ]
    }
   ],
   "source": [
    "import pandas as pd\n",
    "from xgboost import XGBClassifier\n",
    "from sklearn.model_selection import train_test_split, GridSearchCV\n",
    "from sklearn.metrics import make_scorer, accuracy_score\n",
    "\n",
    "import warnings\n",
    "warnings.filterwarnings(\"ignore\", category=UserWarning)\n",
    "\n",
    "# Load original prepared training data\n",
    "df = pd.read_csv(\"../data/prepared/train_fully_prepared.csv\")\n",
    "\n",
    "# Split features and target\n",
    "X = df.drop(columns=[\"id\", \"Personality\"])\n",
    "y = df[\"Personality\"]\n",
    "\n",
    "# Train-validation split\n",
    "X_train, X_val, y_train, y_val = train_test_split(X, y, stratify=y, test_size=0.2, random_state=42)\n",
    "\n",
    "# Define the hyperparameter grid\n",
    "param_grid = {\n",
    "    'max_depth': [3, 5, 7],                      # tree depth\n",
    "    'n_estimators': [100, 200],                  # number of boosting rounds\n",
    "    'learning_rate': [0.01, 0.05, 0.1],          # learning rate\n",
    "    'subsample': [0.7, 0.85, 1.0],               # training instance subsampling\n",
    "    'colsample_bytree': [0.7, 0.9, 1.0],         # feature subsampling for each tree\n",
    "    'gamma': [0, 0.2, 0.5],                      # minimum loss reduction to make a split\n",
    "    'reg_alpha': [0, 0.1, 0.5],                  # L1 regularization (sparsity)\n",
    "    'reg_lambda': [1, 1.5, 2.0],                 # L2 regularization (weight smoothing)\n",
    "}\n",
    "\n",
    "# Set up model\n",
    "xgb = XGBClassifier(use_label_encoder=False, eval_metric='logloss', random_state=42)\n",
    "\n",
    "# GridSearch with accuracy\n",
    "grid_search = GridSearchCV(\n",
    "    estimator=xgb,\n",
    "    param_grid=param_grid,\n",
    "    scoring=make_scorer(accuracy_score),\n",
    "    cv=3,\n",
    "    verbose=1,\n",
    "    n_jobs=-1\n",
    ")\n",
    "\n",
    "# Run search\n",
    "grid_search.fit(X_train, y_train)\n",
    "\n",
    "# Output results\n",
    "print(\"Best Parameters:\", grid_search.best_params_)\n",
    "print(\"Best Accuracy:\", grid_search.best_score_)\n"
   ]
  },
  {
   "cell_type": "code",
   "execution_count": 3,
   "id": "21b2ff5d",
   "metadata": {},
   "outputs": [],
   "source": [
    "# Train final XGBoost model on all data\n",
    "final_model = XGBClassifier(\n",
    "    colsample_bytree=0.7,\n",
    "    gamma=0.2,\n",
    "    learning_rate=0.1,\n",
    "    max_depth=3,\n",
    "    n_estimators=200,\n",
    "    reg_alpha=0,\n",
    "    reg_lambda=1.5,\n",
    "    subsample=0.7,\n",
    "    use_label_encoder=False,\n",
    "    eval_metric='logloss',\n",
    "    random_state=42\n",
    ")\n",
    "final_model.fit(X, y)\n",
    "\n",
    "# Load test set\n",
    "test_df = pd.read_csv(\"../data/prepared/test_fully_prepared.csv\")\n",
    "X_test = test_df.drop(columns=[\"id\"])\n",
    "test_ids = test_df[\"id\"]\n",
    "\n",
    "# Predict\n",
    "y_pred = final_model.predict(X_test)\n",
    "y_labels = pd.Series(y_pred).map({0: \"Extrovert\", 1: \"Introvert\"})\n",
    "\n",
    "# Build submission\n",
    "submission = pd.DataFrame({\n",
    "    \"id\": test_ids,\n",
    "    \"Personality\": y_labels\n",
    "})\n",
    "\n",
    "# Save\n",
    "submission.to_csv(\"submission.csv\", index=False)\n"
   ]
  }
 ],
 "metadata": {
  "kernelspec": {
   "display_name": "Python 3",
   "language": "python",
   "name": "python3"
  },
  "language_info": {
   "codemirror_mode": {
    "name": "ipython",
    "version": 3
   },
   "file_extension": ".py",
   "mimetype": "text/x-python",
   "name": "python",
   "nbconvert_exporter": "python",
   "pygments_lexer": "ipython3",
   "version": "3.13.4"
  }
 },
 "nbformat": 4,
 "nbformat_minor": 5
}
